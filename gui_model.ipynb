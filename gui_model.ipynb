{
 "cells": [
  {
   "cell_type": "code",
   "execution_count": 230,
   "id": "821c6d7c",
   "metadata": {},
   "outputs": [],
   "source": [
    "import tkinter as tk\n",
    "from tkinter import filedialog\n",
    "from tkinter import *\n",
    "from PIL import Image, ImageTk\n",
    "import numpy as np\n",
    "from keras.models import load_model"
   ]
  },
  {
   "cell_type": "code",
   "execution_count": 231,
   "id": "b1607731",
   "metadata": {},
   "outputs": [],
   "source": [
    "# Initializing the GUI\n",
    "top = tk.Tk()\n",
    "top.geometry('800x600')\n",
    "top.title('Age & Gender Detector')\n",
    "top.configure(background='#CDCDCD')"
   ]
  },
  {
   "cell_type": "code",
   "execution_count": 232,
   "id": "c9ec6970",
   "metadata": {},
   "outputs": [],
   "source": [
    "# Loading the Model\n",
    "model = load_model('Age_Gender_Detection.h5')"
   ]
  },
  {
   "cell_type": "code",
   "execution_count": 233,
   "id": "c6091d88",
   "metadata": {},
   "outputs": [],
   "source": [
    "# Initializing the Labels (1 for Age and 1 for Gender)\n",
    "label1 = Label(top, background='#CDCDCD', font=('arial', 15, 'bold'))\n",
    "label2 = Label(top, background='#CDCDCD', font=('arial', 15, 'bold'))\n",
    "sign_image = Label(top)\n",
    "\n",
    "# Global variable to store current file path\n",
    "current_file_path = None"
   ]
  },
  {
   "cell_type": "code",
   "execution_count": 234,
   "id": "86497d76",
   "metadata": {},
   "outputs": [],
   "source": [
    "# Defining the Detect Function to detect the age and gender of the Person using the model\n",
    "def Detect():\n",
    "    global current_file_path\n",
    "    if current_file_path:\n",
    "        # Open the image\n",
    "        image = Image.open(current_file_path)\n",
    "\n",
    "        # Resize and preprocess the image\n",
    "        image = image.resize((48, 48))\n",
    "        image_array = np.array(image) / 255.0\n",
    "        image_array = np.expand_dims(image_array, axis=0)\n",
    "\n",
    "        # Make predictions using the model\n",
    "        predictions = model.predict(image_array)\n",
    "\n",
    "        # Extract the predicted age and gender\n",
    "        age = int(np.round(predictions[1][0]))\n",
    "        gender = int(np.round(predictions[0][0]))\n",
    "\n",
    "        # Define the gender labels\n",
    "        gender_labels = [\"Male\", \"Female\"]\n",
    "\n",
    "        # Display the results\n",
    "        print(\"Predicted Age: \", age)\n",
    "        print(\"Predicted Gender: \", gender_labels[gender])\n",
    "\n",
    "        # Update the GUI labels\n",
    "        label1.configure(foreground=\"#00008B\", text=f\"Predicted Age: {age}\")\n",
    "        label2.configure(foreground=\"#00008B\", text=f\"Predicted Gender: {gender_labels[gender]}\")"
   ]
  },
  {
   "cell_type": "code",
   "execution_count": 235,
   "id": "169c1d7c",
   "metadata": {},
   "outputs": [],
   "source": [
    "# Defining Show_detect button function\n",
    "def show_Detect_button():\n",
    "    # Destroy existing Detect button if it exists\n",
    "    for widget in top.winfo_children():\n",
    "        if isinstance(widget, Button) and widget.cget(\"text\") == \"Detect Image\":\n",
    "            widget.destroy()\n",
    "            \n",
    "    # Create a new Detect Image button\n",
    "    global current_file_path\n",
    "    if current_file_path:\n",
    "        Detect_b = Button(top, text=\"Detect Image\", command=Detect, padx=30, pady=10)\n",
    "        Detect_b.configure(background='#CDCDCD', foreground=\"#00008B\", font=('arial', 10, 'bold'))\n",
    "        Detect_b.pack(side='right')\n",
    "        \n",
    "     # Use place to set the position\n",
    "        Detect_b.place(relx=0.94, rely=0.6, anchor='se')  # Adjust the values according to your desired position\n"
   ]
  },
  {
   "cell_type": "code",
   "execution_count": 236,
   "id": "07d1ab56",
   "metadata": {},
   "outputs": [],
   "source": [
    "# Defining Upload Image button function\n",
    "def upload_image():\n",
    "    global current_file_path\n",
    "    try:\n",
    "        current_file_path = filedialog.askopenfilename()\n",
    "        uploaded = Image.open(current_file_path)\n",
    "        uploaded.thumbnail(((top.winfo_width() / 2.25), (top.winfo_height() / 2.25)))\n",
    "        im = ImageTk.PhotoImage(uploaded)\n",
    "\n",
    "        sign_image.configure(image=im)\n",
    "        sign_image.image = im\n",
    "\n",
    "        # Clear previous predictions\n",
    "        label1.configure(text='')\n",
    "        label2.configure(text='')\n",
    "\n",
    "        # Show the Detect button after uploading an image\n",
    "        show_Detect_button()\n",
    "    except Exception as e:\n",
    "        print(e)\n",
    "        pass"
   ]
  },
  {
   "cell_type": "code",
   "execution_count": null,
   "id": "9e054440",
   "metadata": {},
   "outputs": [
    {
     "name": "stdout",
     "output_type": "stream",
     "text": [
      "1/1 [==============================] - 0s 133ms/step\n",
      "Predicted Age:  39\n",
      "Predicted Gender:  Male\n"
     ]
    },
    {
     "name": "stderr",
     "output_type": "stream",
     "text": [
      "/var/folders/gw/sv3bgzmn6lj9r1p2qtlyjx040000gn/T/ipykernel_83876/454786663.py:17: DeprecationWarning: Conversion of an array with ndim > 0 to a scalar is deprecated, and will error in future. Ensure you extract a single element from your array before performing this operation. (Deprecated NumPy 1.25.)\n",
      "  age = int(np.round(predictions[1][0]))\n",
      "/var/folders/gw/sv3bgzmn6lj9r1p2qtlyjx040000gn/T/ipykernel_83876/454786663.py:18: DeprecationWarning: Conversion of an array with ndim > 0 to a scalar is deprecated, and will error in future. Ensure you extract a single element from your array before performing this operation. (Deprecated NumPy 1.25.)\n",
      "  gender = int(np.round(predictions[0][0]))\n"
     ]
    },
    {
     "name": "stdout",
     "output_type": "stream",
     "text": [
      "1/1 [==============================] - 0s 27ms/step\n",
      "Predicted Age:  33\n",
      "Predicted Gender:  Male\n",
      "1/1 [==============================] - 0s 55ms/step\n",
      "Predicted Age:  35\n",
      "Predicted Gender:  Female\n"
     ]
    }
   ],
   "source": [
    "# Upload Image button\n",
    "upload = Button(top, text='Upload an Image', command=upload_image, padx=30, pady=5)\n",
    "upload.configure(background=\"#333333\", foreground='#00008B', font=('arial', 10, 'bold'))\n",
    "upload.pack(side='bottom', pady=55)  # Adjusted pady value to 20\n",
    "\n",
    "# Labels and image display\n",
    "sign_image.pack(side='bottom', expand=True)\n",
    "label1.pack(side=\"bottom\", expand=True)\n",
    "label2.pack(side=\"bottom\", expand=True)\n",
    "\n",
    "# Heading\n",
    "heading = Label(top, text='Age & Gender Detector', pady=30, font=('Arial', 20, 'bold'))\n",
    "heading.configure(background=\"#CDCDCD\", foreground='#364156')\n",
    "heading.pack()\n",
    "\n",
    "top.mainloop()"
   ]
  },
  {
   "cell_type": "code",
   "execution_count": null,
   "id": "3b07937f",
   "metadata": {},
   "outputs": [],
   "source": []
  }
 ],
 "metadata": {
  "kernelspec": {
   "display_name": "Python 3 (ipykernel)",
   "language": "python",
   "name": "python3"
  },
  "language_info": {
   "codemirror_mode": {
    "name": "ipython",
    "version": 3
   },
   "file_extension": ".py",
   "mimetype": "text/x-python",
   "name": "python",
   "nbconvert_exporter": "python",
   "pygments_lexer": "ipython3",
   "version": "3.9.7"
  }
 },
 "nbformat": 4,
 "nbformat_minor": 5
}
