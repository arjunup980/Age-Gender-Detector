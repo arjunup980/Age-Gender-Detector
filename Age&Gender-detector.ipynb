{
 "cells": [
  {
   "cell_type": "markdown",
   "id": "ef4b75c6",
   "metadata": {},
   "source": [
    "### Model Notebook"
   ]
  },
  {
   "cell_type": "markdown",
   "id": "6c45e2ce",
   "metadata": {},
   "source": [
    "#### This is the notebook for model in age gender detector. Here we will extract the data, train it, fit it into our model, and will evaluate our results to optimize the model for better results."
   ]
  },
  {
   "cell_type": "markdown",
   "id": "da2e9a84",
   "metadata": {},
   "source": [
    "#### Import the Necessary libraries "
   ]
  },
  {
   "cell_type": "code",
   "execution_count": null,
   "id": "c26257a1",
   "metadata": {},
   "outputs": [],
   "source": [
    "import tensorflow as tf\n",
    "import cv2\n",
    "import numpy as np\n",
    "from matplotlib import pyplot as plt\n",
    "from tensorflow.keras.layers import Dropout\n",
    "from tensorflow.keras.layers import Flatten\n",
    "from tensorflow.keras.layers import BatchNormalization\n",
    "from tensorflow.keras.layers import Dense, MaxPool2D, Conv2D, MaxPooling2D\n",
    "from tensorflow.keras.models import Model\n",
    "from tensorflow.keras.layers import Input, Activation, Add\n",
    "from tensorflow.keras.regularizers import l2\n",
    "from tensorflow.keras.optimizers import Adam,Adagrad, Adadelta,Adamax,RMSprop"
   ]
  },
  {
   "cell_type": "markdown",
   "id": "38d3e21c",
   "metadata": {},
   "source": [
    "#### Extract Data from the Dataset"
   ]
  },
  {
   "cell_type": "code",
   "execution_count": null,
   "id": "bfa2442c",
   "metadata": {},
   "outputs": [],
   "source": [
    "fldr = \"./dataset/UTKFace\""
   ]
  },
  {
   "cell_type": "code",
   "execution_count": null,
   "id": "0929212d",
   "metadata": {},
   "outputs": [],
   "source": [
    "import os\n",
    "files = os.listdir(fldr)"
   ]
  },
  {
   "cell_type": "markdown",
   "id": "ee90420a",
   "metadata": {},
   "source": [
    "#### Create list of Images from the Dataset"
   ]
  },
  {
   "cell_type": "code",
   "execution_count": null,
   "id": "3565dbef",
   "metadata": {},
   "outputs": [],
   "source": [
    "ages = []\n",
    "genders = []\n",
    "images = []\n",
    "\n",
    "for fle in files:\n",
    "    age = int(fle.split('_')[0])\n",
    "    gender = int(fle.split('_')[1])\n",
    "    total = fldr + '/' + fle\n",
    "    print(total)\n",
    "    image = cv2.imread(total)\n",
    "    \n",
    "    image = cv2.cvtColor(image,cv2.COLOR_BGR2RGB)\n",
    "    image = cv2.resize(image,(48,48))\n",
    "    images.append(image)"
   ]
  },
  {
   "cell_type": "code",
   "execution_count": null,
   "id": "daf456e0",
   "metadata": {},
   "outputs": [],
   "source": [
    "# for fle in files:\n",
    "#     age = int(fle.split('_')[0])\n",
    "#     gender = int(fle.split('_')[1])\n",
    "#     ages.append(age)\n",
    "#     gender.append(gender)"
   ]
  },
  {
   "cell_type": "markdown",
   "id": "316d60ae",
   "metadata": {},
   "source": [
    "#### Create List of Age and Gender from the Dataset"
   ]
  },
  {
   "cell_type": "code",
   "execution_count": null,
   "id": "74291df5",
   "metadata": {},
   "outputs": [],
   "source": [
    "ages = []\n",
    "genders = []\n",
    "\n",
    "for fle in files:\n",
    "    age = int(fle.split('_')[0])\n",
    "    gender_value = int(fle.split('_')[1])\n",
    "    ages.append(age)\n",
    "    genders.append(gender_value)"
   ]
  },
  {
   "cell_type": "markdown",
   "id": "0159eff8",
   "metadata": {},
   "source": [
    "####  Viewing a Sample"
   ]
  },
  {
   "cell_type": "code",
   "execution_count": null,
   "id": "e3e77705",
   "metadata": {},
   "outputs": [],
   "source": [
    "plt.imshow(images[45])\n",
    "print(ages[45])\n",
    "print(genders[45])"
   ]
  },
  {
   "cell_type": "markdown",
   "id": "86639bc1",
   "metadata": {},
   "source": [
    "#### Saving Images array, ages array, and genders array in the system"
   ]
  },
  {
   "cell_type": "code",
   "execution_count": null,
   "id": "84c2c58f",
   "metadata": {},
   "outputs": [],
   "source": [
    "images_f = np.array(images)\n",
    "ages_f = np.array(ages)\n",
    "genders_f = np.array(genders)"
   ]
  },
  {
   "cell_type": "code",
   "execution_count": null,
   "id": "ede3bea8",
   "metadata": {},
   "outputs": [],
   "source": [
    "np.save(fldr+'image.npy',images_f)\n",
    "np.save(fldr+'ages.npy',ages_f)\n",
    "np.save(fldr+'genders.npy',genders_f)"
   ]
  },
  {
   "cell_type": "markdown",
   "id": "29c89e9f",
   "metadata": {},
   "source": [
    "#### Finding the number of Male and Female samples respectively in the Dataset"
   ]
  },
  {
   "cell_type": "code",
   "execution_count": null,
   "id": "77331832",
   "metadata": {},
   "outputs": [],
   "source": [
    "values,counts = np.unique(genders_f, return_counts = True)\n",
    "print(counts)"
   ]
  },
  {
   "cell_type": "markdown",
   "id": "69029b7d",
   "metadata": {},
   "source": [
    "#### Plotting the number of Male and Female Samples"
   ]
  },
  {
   "cell_type": "code",
   "execution_count": null,
   "id": "b117d2e6",
   "metadata": {},
   "outputs": [],
   "source": [
    "fig = plt.figure()\n",
    "ax = fig.add_axes([0,0,1,1])\n",
    "gender = ['Male','Female']\n",
    "values =  [12391, 11317]\n",
    "ax.bar(gender,values)\n",
    "plt.show()"
   ]
  },
  {
   "cell_type": "markdown",
   "id": "baf1f758",
   "metadata": {},
   "source": [
    "#### Finding the number of samples in each age"
   ]
  },
  {
   "cell_type": "code",
   "execution_count": null,
   "id": "b265ac74",
   "metadata": {},
   "outputs": [],
   "source": [
    "values,counts = np.unique(ages_f,return_counts = True)\n",
    "print(counts)"
   ]
  },
  {
   "cell_type": "markdown",
   "id": "c3030d9c",
   "metadata": {},
   "source": [
    "#### Converting Age counts to lists"
   ]
  },
  {
   "cell_type": "code",
   "execution_count": null,
   "id": "94ac9b98",
   "metadata": {},
   "outputs": [],
   "source": [
    "val = values.tolist()\n",
    "cnt = counts.tolist()"
   ]
  },
  {
   "cell_type": "markdown",
   "id": "7c3d353d",
   "metadata": {},
   "source": [
    "#### Plotting the Samples Agewise"
   ]
  },
  {
   "cell_type": "code",
   "execution_count": null,
   "id": "f4af8771",
   "metadata": {},
   "outputs": [],
   "source": [
    "plt.plot(counts)\n",
    "plt.xlabel('Ages')\n",
    "plt.ylabel('Distribution')\n",
    "plt.show()"
   ]
  },
  {
   "cell_type": "markdown",
   "id": "2c5eec53",
   "metadata": {},
   "source": [
    "#### Defining Labels for Output"
   ]
  },
  {
   "cell_type": "code",
   "execution_count": null,
   "id": "99a7d6f9",
   "metadata": {},
   "outputs": [],
   "source": [
    "labels = []\n",
    "i = 0\n",
    "while i<len(ages):\n",
    "    label=[]\n",
    "    label.append(ages[i])\n",
    "    label.append(genders[i])\n",
    "    labels.append(label)\n",
    "    i+=1"
   ]
  },
  {
   "cell_type": "markdown",
   "id": "0d50b691",
   "metadata": {},
   "source": [
    "#### Creating another list of images from existing one for better learning"
   ]
  },
  {
   "cell_type": "code",
   "execution_count": null,
   "id": "c15416f6",
   "metadata": {},
   "outputs": [],
   "source": [
    "images_f_2 = images_f/255"
   ]
  },
  {
   "cell_type": "code",
   "execution_count": null,
   "id": "696b7533",
   "metadata": {},
   "outputs": [],
   "source": [
    "images_f_2.shape"
   ]
  },
  {
   "cell_type": "code",
   "execution_count": null,
   "id": "2ee7f3bf",
   "metadata": {},
   "outputs": [],
   "source": [
    "labels_f = np.array(labels)"
   ]
  },
  {
   "cell_type": "markdown",
   "id": "6a8b2f4d",
   "metadata": {},
   "source": [
    "#### Splitting the Dataset into test and train"
   ]
  },
  {
   "cell_type": "code",
   "execution_count": null,
   "id": "a01a0e0f",
   "metadata": {},
   "outputs": [],
   "source": [
    "from sklearn.model_selection import train_test_split"
   ]
  },
  {
   "cell_type": "code",
   "execution_count": null,
   "id": "73686548",
   "metadata": {},
   "outputs": [],
   "source": [
    "X_train,X_test,Y_train,Y_test = train_test_split(images_f_2, labels_f, test_size = 0.25)"
   ]
  },
  {
   "cell_type": "code",
   "execution_count": null,
   "id": "e1985226",
   "metadata": {},
   "outputs": [],
   "source": [
    "Y_train[0:5]"
   ]
  },
  {
   "cell_type": "markdown",
   "id": "6d66dba0",
   "metadata": {},
   "source": [
    "#### Splitting 'Y_test and Y_train' furthur for better understanding"
   ]
  },
  {
   "cell_type": "code",
   "execution_count": null,
   "id": "76ad4d46",
   "metadata": {},
   "outputs": [],
   "source": [
    "Y_train_2 = [Y_train[:,1],Y_train[:,0]]\n",
    "Y_test_2 = [Y_test[:,1],Y_test[:,0]]"
   ]
  },
  {
   "cell_type": "code",
   "execution_count": null,
   "id": "f50bd3a3",
   "metadata": {},
   "outputs": [],
   "source": [
    "Y_train_2[0][0:5]"
   ]
  },
  {
   "cell_type": "code",
   "execution_count": null,
   "id": "61cd765d",
   "metadata": {},
   "outputs": [],
   "source": [
    "Y_train_2[1][0:5]"
   ]
  },
  {
   "cell_type": "markdown",
   "id": "ff9ebdd5",
   "metadata": {},
   "source": [
    "### Defining The Model"
   ]
  },
  {
   "cell_type": "code",
   "execution_count": null,
   "id": "4fd667d1",
   "metadata": {},
   "outputs": [],
   "source": [
    "# def Convolution(input_tensor, filters):\n",
    "#     x = Conv2D(filters=filters, kernel_size = (3,3), padding=\"same\", strides=(1,1),kernel_regularizer=12(0.001))(input_tensor)\n",
    "#     x = Dropout(0.1)(x)\n",
    "#     x = Activation('relu')(x)\n",
    "#     return x\n",
    "\n",
    "def Convolution(input_tensor, filters):\n",
    "    x = Conv2D(filters=filters, kernel_size=(3, 3), padding=\"same\", strides=(1, 1), kernel_regularizer=l2(0.001))(input_tensor)\n",
    "    x = Dropout(0.1)(x)\n",
    "    x = Activation('relu')(x)\n",
    "    return x"
   ]
  },
  {
   "cell_type": "code",
   "execution_count": null,
   "id": "ba1c8ecd",
   "metadata": {},
   "outputs": [],
   "source": [
    "# def model(input_shape):\n",
    "#     inputs = Input((input_shape))\n",
    "#     conv_1 = Convolution(inputs,32)\n",
    "#     max_1 = MaxPooling2D(pool_size=(2,2))(conv_1)\n",
    "#     conv_2 = Convolution(max_1,64)\n",
    "#     max_2 = MaxPooling2D(pool_size=(2,2))(conv_2)\n",
    "#     conv_3 = Convolution(maxp_2,128)\n",
    "#     maxp_3 = MaxPooling2D(pool_size=(2,2))(conv_3)\n",
    "#     conv_4 = Convolution(maxp_3, 256)\n",
    "#     maxp_4 = MaxPooling2D(pool_size = (2,2))(conv_4)\n",
    "#     flatten = Flatten()(maxp_4)\n",
    "#     dense_1 = Dense(64,activation='relu')(flatten)\n",
    "#     dense_2 = Dense(64,activation='relu')(flatten)\n",
    "#     drop_1 = Dropout(0.2)(dense_1)\n",
    "#     drop_2 = Dropout(0.2)(dense_2)\n",
    "#     output_1 = Dense(1,activation='sigmoid',name='sex_output')(drop_1)\n",
    "#     output_2 = Dense(1,activation='relu',name='age_output')(drop_2)\n",
    "#     model = Model(inputs = [inputs],outputs=[output_1,output_2])\n",
    "#     model.compile(loss=[\"binary_crossentropy\",\"mae\"],optimizer=\"Adam\",matrics=[\"accuracy\"])\n",
    "#     return model\n",
    "\n",
    "def model(input_shape):\n",
    "    inputs = Input((input_shape))\n",
    "    conv_1 = Convolution(inputs, 32)\n",
    "    max_1 = MaxPooling2D(pool_size=(2, 2))(conv_1)\n",
    "    conv_2 = Convolution(max_1, 64)\n",
    "    max_2 = MaxPooling2D(pool_size=(2, 2))(conv_2)\n",
    "    conv_3 = Convolution(max_2, 128)\n",
    "    maxp_3 = MaxPooling2D(pool_size=(2, 2))(conv_3)\n",
    "    conv_4 = Convolution(maxp_3, 256)\n",
    "    maxp_4 = MaxPooling2D(pool_size=(2, 2))(conv_4)\n",
    "    conv_5 = Convolution(maxp_4, 512)\n",
    "    maxp_5 = MaxPooling2D(pool_size=(2, 2))(conv_5)\n",
    "    flatten = Flatten()(maxp_4)\n",
    "    dense_1 = Dense(64, activation='swish')(flatten)\n",
    "    dense_2 = Dense(64, activation='swish')(flatten)\n",
    "    drop_1 = Dropout(0.2)(dense_1)\n",
    "    drop_2 = Dropout(0.2)(dense_2)\n",
    "    output_1 = Dense(1, activation='sigmoid', name='sex_output')(drop_1)\n",
    "    output_2 = Dense(1, activation='swish', name='age_output')(drop_2)\n",
    "    model = Model(inputs=[inputs], outputs=[output_1, output_2])\n",
    "    model.compile(loss=[\"binary_crossentropy\", \"mae\"], optimizer=\"Adam\", metrics=[\"accuracy\"])\n",
    "    return model"
   ]
  },
  {
   "cell_type": "code",
   "execution_count": null,
   "id": "c26d7734",
   "metadata": {},
   "outputs": [],
   "source": [
    "Model = model((48, 48, 3))"
   ]
  },
  {
   "cell_type": "code",
   "execution_count": null,
   "id": "3cecd7bf",
   "metadata": {},
   "outputs": [],
   "source": [
    "Model.summary()"
   ]
  },
  {
   "cell_type": "code",
   "execution_count": null,
   "id": "03fb95ad",
   "metadata": {},
   "outputs": [],
   "source": [
    "from tensorflow.keras.callbacks import ModelCheckpoint"
   ]
  },
  {
   "cell_type": "markdown",
   "id": "f24f6fe7",
   "metadata": {},
   "source": [
    "#### Initializing the Model"
   ]
  },
  {
   "cell_type": "code",
   "execution_count": null,
   "id": "5d102312",
   "metadata": {},
   "outputs": [],
   "source": [
    "fle_s = 'Age_Gender_Detection.h5'\n",
    "checkpoint = ModelCheckpoint(fle_s,monitor='val_loss',verbose=1,save_best_only=True,save_weights_only=False,model='auto',save_freq='epoch')\n",
    "Early_stop = tf.keras.callbacks.EarlyStopping(patience=25,monitor='val_loss',restore_best_weights=True)\n",
    "callback_list = [checkpoint,Early_stop]"
   ]
  },
  {
   "cell_type": "markdown",
   "id": "147c7ec1",
   "metadata": {},
   "source": [
    "#### Runnning the Model\n",
    "##### It will take a lot of Time"
   ]
  },
  {
   "cell_type": "code",
   "execution_count": null,
   "id": "e53f4ca0",
   "metadata": {},
   "outputs": [],
   "source": [
    "History = Model.fit(X_train,Y_train_2,batch_size=64,validation_data=(X_test,Y_test_2),epochs=250,callbacks=callback_list)"
   ]
  },
  {
   "cell_type": "markdown",
   "id": "585f81d9",
   "metadata": {},
   "source": [
    "#### Model Evaluation"
   ]
  },
  {
   "cell_type": "code",
   "execution_count": null,
   "id": "78abe726",
   "metadata": {},
   "outputs": [],
   "source": [
    " Model.evaluate(X_test, Y_test_2)"
   ]
  },
  {
   "cell_type": "code",
   "execution_count": null,
   "id": "b70068fc",
   "metadata": {},
   "outputs": [],
   "source": [
    "pred = Model.predict(X_test)"
   ]
  },
  {
   "cell_type": "code",
   "execution_count": null,
   "id": "90f51f6f",
   "metadata": {},
   "outputs": [],
   "source": [
    "pred[1]"
   ]
  },
  {
   "cell_type": "markdown",
   "id": "544a727e",
   "metadata": {},
   "source": [
    "#### Plotting the Loss"
   ]
  },
  {
   "cell_type": "code",
   "execution_count": null,
   "id": "92e86b8a",
   "metadata": {},
   "outputs": [],
   "source": [
    "plt.plot(History.history['loss'])\n",
    "plt.plot(History.history['val_loss'])\n",
    "plt.title('Model Loss')\n",
    "plt.xlabel = ('Epoch')\n",
    "plt.ylabel = ('Loss')\n",
    "plt.legend(['Train', 'Validation'], loc='upper left')\n",
    "plt.subplots_adjust(top=1.0,bottom=0.0,right=0.95,left=0,hspace=0.25,wspace=0.35)"
   ]
  },
  {
   "cell_type": "markdown",
   "id": "3cb4f154",
   "metadata": {},
   "source": [
    "#### Plotting Gender Accuracy"
   ]
  },
  {
   "cell_type": "code",
   "execution_count": null,
   "id": "df12af95",
   "metadata": {},
   "outputs": [],
   "source": [
    "plt.plot(History.history['sex_output_accuracy'])\n",
    "plt.plot(History.history['val_sex_output_accuracy'])\n",
    "plt.title('Model Accuracy')\n",
    "plt.xlabel = ('Epoch')\n",
    "plt.ylabel = ('Accuracy')\n",
    "plt.legend(['Train', 'Validation'], loc='upper left')\n",
    "plt.subplots_adjust(top=1.0,bottom=0.0,right=0.95,left=0,hspace=0.25,wspace=0.35)"
   ]
  },
  {
   "cell_type": "markdown",
   "id": "9160d7eb",
   "metadata": {},
   "source": [
    "#### Plotting Age Accuracy"
   ]
  },
  {
   "cell_type": "code",
   "execution_count": null,
   "id": "b4421a21",
   "metadata": {},
   "outputs": [],
   "source": [
    "fig,ax = plt.subplots()\n",
    "ax.scatter(Y_test_2[1],pred[1])\n",
    "ax.plot([Y_test_2[1].min(),Y_test_2[1].max()],[Y_test_2[1].min(),Y_test_2[1].max()],'k--',lw=4)\n",
    "ax.set_xlabel('Actual Age')\n",
    "ax.set_ylabel('Predicted Age')\n",
    "plt.show()"
   ]
  },
  {
   "cell_type": "markdown",
   "id": "1e7e05ab",
   "metadata": {},
   "source": [
    "#### Making Report of the Model(Gender Only)"
   ]
  },
  {
   "cell_type": "code",
   "execution_count": null,
   "id": "6c1352dd",
   "metadata": {},
   "outputs": [],
   "source": [
    "i = 0\n",
    "pred_1 = []\n",
    "while(i<len(pred[0])):\n",
    "    pred_1.append(int(np.round(pred[0][i])))\n",
    "    i+=1"
   ]
  },
  {
   "cell_type": "code",
   "execution_count": null,
   "id": "745db7ce",
   "metadata": {},
   "outputs": [],
   "source": [
    "from sklearn.metrics import confusion_matrix\n",
    "from sklearn.metrics import classification_report"
   ]
  },
  {
   "cell_type": "code",
   "execution_count": null,
   "id": "5f2328d0",
   "metadata": {},
   "outputs": [],
   "source": [
    "report = classification_report(Y_test_2[0],pred_1)"
   ]
  },
  {
   "cell_type": "code",
   "execution_count": null,
   "id": "f21a5e87",
   "metadata": {},
   "outputs": [],
   "source": [
    "print(report)"
   ]
  },
  {
   "cell_type": "markdown",
   "id": "c53539d8",
   "metadata": {},
   "source": [
    "#### Making heat map of the Model(Gender Only)"
   ]
  },
  {
   "cell_type": "code",
   "execution_count": null,
   "id": "fceb289f",
   "metadata": {},
   "outputs": [],
   "source": [
    "results = confusion_matrix(Y_test_2[0],pred_1)"
   ]
  },
  {
   "cell_type": "code",
   "execution_count": null,
   "id": "09a4e6bf",
   "metadata": {},
   "outputs": [],
   "source": [
    "import seaborn as sns"
   ]
  },
  {
   "cell_type": "code",
   "execution_count": null,
   "id": "4ab377eb",
   "metadata": {},
   "outputs": [],
   "source": [
    "sns.heatmap(results,annot=True)"
   ]
  },
  {
   "cell_type": "markdown",
   "id": "e6a6a8f7",
   "metadata": {},
   "source": [
    "#### Testing the Images Ourself"
   ]
  },
  {
   "cell_type": "code",
   "execution_count": null,
   "id": "d72a171c",
   "metadata": {},
   "outputs": [],
   "source": [
    "def test_image(ind,images_f,images_f_2,Model):\n",
    "    plt.imshow(images_f[ind])\n",
    "    image_test = images_f_2[ind]\n",
    "    pred_1 = Model.predict(np.array([image_test]))\n",
    "    sex_f = ['Male', 'Female']\n",
    "    age = int(np.round(pred_1[1][0]))\n",
    "    sex = int(np.round(pred_1[0][0]))\n",
    "    print(\"Predicted Age is: \"+ str(age))\n",
    "    print(\"Predicted Gender is: \"+ sex_f[sex])"
   ]
  },
  {
   "cell_type": "markdown",
   "id": "c51fd17b",
   "metadata": {},
   "source": [
    "##### Tests"
   ]
  },
  {
   "cell_type": "code",
   "execution_count": 91,
   "id": "1ecc4027",
   "metadata": {},
   "outputs": [
    {
     "name": "stdout",
     "output_type": "stream",
     "text": [
      "1/1 [==============================] - 0s 45ms/step\n",
      "Predicted Age is: 34\n",
      "Predicted Gender is: Male\n"
     ]
    },
    {
     "name": "stderr",
     "output_type": "stream",
     "text": [
      "/var/folders/gw/sv3bgzmn6lj9r1p2qtlyjx040000gn/T/ipykernel_43599/2270774410.py:6: DeprecationWarning: Conversion of an array with ndim > 0 to a scalar is deprecated, and will error in future. Ensure you extract a single element from your array before performing this operation. (Deprecated NumPy 1.25.)\n",
      "  age = int(np.round(pred_1[1][0]))\n",
      "/var/folders/gw/sv3bgzmn6lj9r1p2qtlyjx040000gn/T/ipykernel_43599/2270774410.py:7: DeprecationWarning: Conversion of an array with ndim > 0 to a scalar is deprecated, and will error in future. Ensure you extract a single element from your array before performing this operation. (Deprecated NumPy 1.25.)\n",
      "  sex = int(np.round(pred_1[0][0]))\n"
     ]
    },
    {
     "data": {
      "image/png": "[encoded data removed]",
      "text/plain": [
       "<Figure size 432x288 with 1 Axes>"
      ]
     },
     "metadata": {
      "needs_background": "light"
     },
     "output_type": "display_data"
    }
   ],
   "source": [
    "test_image(95,images_f,images_f_2,Model)"
   ]
  },
  {
   "cell_type": "code",
   "execution_count": 70,
   "id": "b5623e2d",
   "metadata": {},
   "outputs": [
    {
     "name": "stdout",
     "output_type": "stream",
     "text": [
      "1/1 [==============================] - 0s 93ms/step\n",
      "Predicted Age is: 21\n",
      "Predicted Gender is: Male\n"
     ]
    },
    {
     "name": "stderr",
     "output_type": "stream",
     "text": [
      "/var/folders/gw/sv3bgzmn6lj9r1p2qtlyjx040000gn/T/ipykernel_43599/2270774410.py:6: DeprecationWarning: Conversion of an array with ndim > 0 to a scalar is deprecated, and will error in future. Ensure you extract a single element from your array before performing this operation. (Deprecated NumPy 1.25.)\n",
      "  age = int(np.round(pred_1[1][0]))\n",
      "/var/folders/gw/sv3bgzmn6lj9r1p2qtlyjx040000gn/T/ipykernel_43599/2270774410.py:7: DeprecationWarning: Conversion of an array with ndim > 0 to a scalar is deprecated, and will error in future. Ensure you extract a single element from your array before performing this operation. (Deprecated NumPy 1.25.)\n",
      "  sex = int(np.round(pred_1[0][0]))\n"
     ]
    },
    {
     "data": {
      "image/png": "[encoded data removed]",
      "text/plain": [
       "<Figure size 432x288 with 1 Axes>"
      ]
     },
     "metadata": {
      "needs_background": "light"
     },
     "output_type": "display_data"
    }
   ],
   "source": [
    "test_image(33,images_f,images_f_2,Model)"
   ]
  },
  {
   "cell_type": "code",
   "execution_count": 71,
   "id": "02951915",
   "metadata": {},
   "outputs": [
    {
     "name": "stdout",
     "output_type": "stream",
     "text": [
      "1/1 [==============================] - 0s 102ms/step\n",
      "Predicted Age is: 29\n",
      "Predicted Gender is: Male\n"
     ]
    },
    {
     "name": "stderr",
     "output_type": "stream",
     "text": [
      "/var/folders/gw/sv3bgzmn6lj9r1p2qtlyjx040000gn/T/ipykernel_43599/2270774410.py:6: DeprecationWarning: Conversion of an array with ndim > 0 to a scalar is deprecated, and will error in future. Ensure you extract a single element from your array before performing this operation. (Deprecated NumPy 1.25.)\n",
      "  age = int(np.round(pred_1[1][0]))\n",
      "/var/folders/gw/sv3bgzmn6lj9r1p2qtlyjx040000gn/T/ipykernel_43599/2270774410.py:7: DeprecationWarning: Conversion of an array with ndim > 0 to a scalar is deprecated, and will error in future. Ensure you extract a single element from your array before performing this operation. (Deprecated NumPy 1.25.)\n",
      "  sex = int(np.round(pred_1[0][0]))\n"
     ]
    },
    {
     "data": {
      "image/png": "[encoded data removed]",
      "text/plain": [
       "<Figure size 432x288 with 1 Axes>"
      ]
     },
     "metadata": {
      "needs_background": "light"
     },
     "output_type": "display_data"
    }
   ],
   "source": [
    "test_image(17,images_f,images_f_2,Model)"
   ]
  },
  {
   "cell_type": "code",
   "execution_count": 108,
   "id": "81ad9035",
   "metadata": {},
   "outputs": [
    {
     "name": "stdout",
     "output_type": "stream",
     "text": [
      "1/1 [==============================] - 0s 257ms/step\n",
      "Predicted Age is: 2\n",
      "Predicted Gender is: Male\n"
     ]
    },
    {
     "name": "stderr",
     "output_type": "stream",
     "text": [
      "/var/folders/gw/sv3bgzmn6lj9r1p2qtlyjx040000gn/T/ipykernel_43599/2270774410.py:6: DeprecationWarning: Conversion of an array with ndim > 0 to a scalar is deprecated, and will error in future. Ensure you extract a single element from your array before performing this operation. (Deprecated NumPy 1.25.)\n",
      "  age = int(np.round(pred_1[1][0]))\n",
      "/var/folders/gw/sv3bgzmn6lj9r1p2qtlyjx040000gn/T/ipykernel_43599/2270774410.py:7: DeprecationWarning: Conversion of an array with ndim > 0 to a scalar is deprecated, and will error in future. Ensure you extract a single element from your array before performing this operation. (Deprecated NumPy 1.25.)\n",
      "  sex = int(np.round(pred_1[0][0]))\n"
     ]
    },
    {
     "data": {
      "image/png": "[encoded data removed]",
      "text/plain": [
       "<Figure size 432x288 with 1 Axes>"
      ]
     },
     "metadata": {
      "needs_background": "light"
     },
     "output_type": "display_data"
    }
   ],
   "source": [
    "test_image(919,images_f,images_f_2,Model)"
   ]
  },
  {
   "cell_type": "code",
   "execution_count": null,
   "id": "bbb26677",
   "metadata": {},
   "outputs": [],
   "source": []
  }
 ],
 "metadata": {
  "kernelspec": {
   "display_name": "Python 3 (ipykernel)",
   "language": "python",
   "name": "python3"
  },
  "language_info": {
   "codemirror_mode": {
    "name": "ipython",
    "version": 3
   },
   "file_extension": ".py",
   "mimetype": "text/x-python",
   "name": "python",
   "nbconvert_exporter": "python",
   "pygments_lexer": "ipython3",
   "version": "3.9.7"
  }
 },
 "nbformat": 4,
 "nbformat_minor": 5
}
